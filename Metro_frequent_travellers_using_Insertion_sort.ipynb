{
  "nbformat": 4,
  "nbformat_minor": 0,
  "metadata": {
    "colab": {
      "provenance": []
    },
    "kernelspec": {
      "name": "python3",
      "display_name": "Python 3"
    },
    "language_info": {
      "name": "python"
    }
  },
  "cells": [
    {
      "cell_type": "markdown",
      "source": [
        "# **Program To sort metro frequent travellers using insertion sort and find five frequent travellers**"
      ],
      "metadata": {
        "id": "jLWAvRexjNLp"
      }
    },
    {
      "cell_type": "code",
      "source": [
        "# Function to perform insertion sort\n",
        "def insertion_sort(arr):\n",
        "    for i in range(1, len(arr)):\n",
        "        key = arr[i]\n",
        "        j = i - 1\n",
        "        while j >= 0 and arr[j]['Number_of_Rides'] < key['Number_of_Rides']:\n",
        "            arr[j + 1] = arr[j]\n",
        "            j -= 1\n",
        "        arr[j + 1] = key\n",
        "\n",
        "# Define the threshold for frequent travelers (e.g., 30 rides)\n",
        "threshold = 30\n",
        "\n",
        "# Create a list to store frequent travelers' data\n",
        "frequent_travelers = []\n",
        "\n",
        "# Read the CSV file\n",
        "with open(\"/content/drive/MyDrive/kochi_metro_card_users.csv\", mode=\"r\") as file:\n",
        "    reader = csv.DictReader(file)\n",
        "    for row in reader:\n",
        "        name = row[\"Name\"]\n",
        "        rides = int(row[\"Number_of_Rides\"])\n",
        "        if rides >= threshold:\n",
        "            frequent_travelers.append({\"Name\": name, \"Number_of_Rides\": rides})\n",
        "\n",
        "# Sort the frequent travelers' data using insertion sort\n",
        "insertion_sort(frequent_travelers)\n",
        "# Print the Kochi Metro cards for frequent travelers\n",
        "print(\"Kochi Metro Cards for Frequent Travelers:\")\n",
        "for i, traveler in enumerate(frequent_travelers[:5]):\n",
        "    card_number = i + 1\n",
        "    print(f\"Card Number: {card_number}\")\n",
        "    print(f\"Name: {traveler['Name']}\")\n",
        "    print(f\"Number of Rides: {traveler['Number_of_Rides']}\")\n",
        "    print(\"-\" * 30)\n"
      ],
      "metadata": {
        "colab": {
          "base_uri": "https://localhost:8080/"
        },
        "id": "RAxHB1f9iyhE",
        "outputId": "e2af6949-5bcd-43d5-a4cb-4f651867fb56"
      },
      "execution_count": null,
      "outputs": [
        {
          "output_type": "stream",
          "name": "stdout",
          "text": [
            "Kochi Metro Cards for Frequent Travelers:\n",
            "Card Number: 1\n",
            "Name: Rachel\n",
            "Number of Rides: 94\n",
            "------------------------------\n",
            "Card Number: 2\n",
            "Name: Tom\n",
            "Number of Rides: 93\n",
            "------------------------------\n",
            "Card Number: 3\n",
            "Name: Harry\n",
            "Number of Rides: 93\n",
            "------------------------------\n",
            "Card Number: 4\n",
            "Name: Quincy\n",
            "Number of Rides: 93\n",
            "------------------------------\n",
            "Card Number: 5\n",
            "Name: Yasmine\n",
            "Number of Rides: 91\n",
            "------------------------------\n"
          ]
        }
      ]
    }
  ]
}